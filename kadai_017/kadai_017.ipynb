{
  "cells": [
    {
      "cell_type": "code",
      "execution_count": null,
      "metadata": {
        "colab": {
          "base_uri": "https://localhost:8080/"
        },
        "id": "V1U0RjPfuhti",
        "outputId": "d6a36b46-315a-4d47-fdb8-9e1e96ff9c64"
      },
      "outputs": [
        {
          "name": "stdout",
          "output_type": "stream",
          "text": [
            "名前:foo、年齢:16\n",
            "大人ではありません\n",
            "名前:bar、年齢:20\n",
            "大人です\n",
            "名前:baz、年齢:24\n",
            "大人です\n"
          ]
        }
      ],
      "source": [
        "class Human:\n",
        "    def __init__(self, name, age):\n",
        "        self.name = name\n",
        "        self.age = age\n",
        "    def printinfo(self):\n",
        "        print(f\"名前:{self.name}、年齢:{self.age}\")\n",
        "    # Humanクラスには、以下の条件で標準出力(print)するcheck_adultメソッドを追加してください。\n",
        "    # ageが20以上の場合に大人であること\n",
        "    # そうでない場合に大人でないこと\n",
        "    def check_adult(self):\n",
        "        if self.age >= 20:\n",
        "            print(\"大人です\")\n",
        "        else:\n",
        "            print(\"大人ではありません\")\n",
        "\n",
        "# Humanクラスのインスタンスを複数生成してリストに追加し、リストの要素数分だけcheck_adultメソッドを呼び出してください。\n",
        "humanlist = [\n",
        "    Human('foo', 16),\n",
        "    Human('bar', 20),\n",
        "    Human('baz', 24),\n",
        "]\n",
        "\n",
        "for human in humanlist:\n",
        "    human.printinfo()\n",
        "    human.check_adult()"
      ]
    }
  ],
  "metadata": {
    "colab": {
      "provenance": []
    },
    "kernelspec": {
      "display_name": "Python 3",
      "name": "python3"
    },
    "language_info": {
      "codemirror_mode": {
        "name": "ipython",
        "version": 3
      },
      "file_extension": ".py",
      "mimetype": "text/x-python",
      "name": "python",
      "nbconvert_exporter": "python",
      "pygments_lexer": "ipython3",
      "version": "3.13.3"
    }
  },
  "nbformat": 4,
  "nbformat_minor": 0
}
