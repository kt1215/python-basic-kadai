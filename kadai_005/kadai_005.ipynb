{
  "nbformat": 4,
  "nbformat_minor": 0,
  "metadata": {
    "colab": {
      "provenance": []
    },
    "kernelspec": {
      "name": "python3",
      "display_name": "Python 3"
    },
    "language_info": {
      "name": "python"
    }
  },
  "cells": [
    {
      "cell_type": "code",
      "execution_count": 5,
      "metadata": {
        "colab": {
          "base_uri": "https://localhost:8080/"
        },
        "id": "9hDviQ8ln2-7",
        "outputId": "a5edfc61-ac5b-4ff5-efe0-ee1bf49edc8a"
      },
      "outputs": [
        {
          "output_type": "stream",
          "name": "stdout",
          "text": [
            "75.0cm^2\n"
          ]
        }
      ],
      "source": [
        "upper_length = 10\n",
        "lower_lenght = 20\n",
        "height = 5\n",
        "area = (upper_length + lower_lenght) * height / 2\n",
        "print(f\"{area}cm²\")"
      ]
    },
    {
      "cell_type": "code",
      "source": [],
      "metadata": {
        "id": "Cmq7elXvoHZK"
      },
      "execution_count": null,
      "outputs": []
    }
  ]
}